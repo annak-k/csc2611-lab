{
 "cells": [
  {
   "cell_type": "code",
   "execution_count": 4,
   "metadata": {},
   "outputs": [],
   "source": [
    "from gensim.models import KeyedVectors\n",
    "model = KeyedVectors.load_word2vec_format('GoogleNews-vectors-negative300.bin',\n",
    "binary=True)"
   ]
  },
  {
   "cell_type": "code",
   "execution_count": 5,
   "metadata": {},
   "outputs": [],
   "source": [
    "from scipy.stats import pearsonr\n",
    "import pickle\n",
    "\n",
    "from sklearn.metrics.pairwise import cosine_similarity\n",
    "import numpy as np"
   ]
  },
  {
   "cell_type": "code",
   "execution_count": 6,
   "metadata": {},
   "outputs": [
    {
     "name": "stdout",
     "output_type": "stream",
     "text": [
      "61 61\n"
     ]
    }
   ],
   "source": [
    "P = [(\"cord\", \"smile\"), (\"rooster\", \"voyage\"), (\"noon\", \"string\"), \n",
    "     (\"fruit\", \"furnace\"), (\"autograph\", \"shore\"), (\"automobile\", \"wizard\"),\n",
    "     (\"mound\", \"stove\"), (\"grin\", \"implement\"), (\"asylum\", \"fruit\"),\n",
    "     (\"asylum\", \"monk\"), (\"graveyard\", \"madhouse\"), (\"glass\", \"magician\"),\n",
    "     (\"boy\", \"rooster\"), (\"cushion\", \"jewel\"), (\"monk\", \"slave\"),\n",
    "     (\"asylum\", \"cemetery\"), (\"coast\", \"forest\"),\n",
    "     (\"shore\", \"woodland\"), (\"monk\", \"oracle\"), (\"boy\", \"sage\"),\n",
    "     (\"automobile\", \"cushion\"), (\"mound\", \"shore\"),\n",
    "     (\"forest\", \"graveyard\"), (\"food\", \"rooster\"), (\"cemetery\", \"woodland\"),\n",
    "     (\"shore\", \"voyage\"), (\"bird\", \"woodland\"), (\"coast\", \"hill\"),\n",
    "     (\"furnace\", \"implement\"), (\"crane\", \"rooster\"), (\"hill\", \"woodland\"),\n",
    "     (\"car\", \"journey\"), (\"cemetery\", \"mound\"), (\"glass\", \"jewel\"),\n",
    "     (\"magician\", \"oracle\"), (\"crane\", \"implement\"),\n",
    "     (\"sage\", \"wizard\"), (\"oracle\", \"sage\"), (\"bird\", \"crane\"),\n",
    "     (\"bird\", \"cock\"), (\"food\", \"fruit\"), (\"brother\", \"monk\"), \n",
    "     (\"asylum\", \"madhouse\"), (\"furnace\", \"stove\"),\n",
    "     (\"magician\", \"wizard\"), (\"hill\", \"mound\"), (\"cord\", \"string\"),\n",
    "     (\"glass\", \"tumbler\"), (\"grin\", \"smile\"), (\"serf\", \"slave\"),\n",
    "     (\"journey\", \"voyage\"), (\"autograph\", \"signature\"), (\"coast\", \"shore\"),\n",
    "     (\"forest\", \"woodland\"), (\"implement\", \"tool\"), (\"cock\", \"rooster\"),\n",
    "     (\"cushion\", \"pillow\"), (\"cemetery\", \"graveyard\"),\n",
    "     (\"automobile\", \"car\"), (\"midday\", \"noon\"), (\"gem\", \"jewel\")]\n",
    "S = [0.02, 0.04, 0.04, 0.05, 0.06, 0.11, 0.14, 0.18, 0.19, 0.39, 0.42,\n",
    "    0.44, 0.44, 0.45, 0.57, 0.79, 0.85, 0.90, 0.91, 0.96, 0.97,\n",
    "    0.97, 1.00, 1.09, 1.18, 1.22, 1.24, 1.26, 1.37, 1.41, 1.48,\n",
    "    1.55, 1.69, 1.78, 1.82, 2.37, 2.46, 2.61, 2.63, 2.63, 2.69,\n",
    "    2.74, 3.04, 3.11, 3.21, 3.29, 3.41, 3.45, 3.46, 3.46, 3.58, 3.59, \n",
    "    3.60, 3.65, 3.66, 3.68, 3.84, 3.88, 3.92, 3.94, 3.94]\n",
    "print(len(P), len(S))"
   ]
  },
  {
   "cell_type": "code",
   "execution_count": 7,
   "metadata": {},
   "outputs": [],
   "source": [
    "sims = []\n",
    "for w1, w2 in P:\n",
    "    sims.append(model.similarity(w1, w2))"
   ]
  },
  {
   "cell_type": "code",
   "execution_count": 8,
   "metadata": {},
   "outputs": [
    {
     "data": {
      "text/plain": [
       "(0.7707900984751302, 3.7223067512191797e-13)"
      ]
     },
     "execution_count": 8,
     "metadata": {},
     "output_type": "execute_result"
    }
   ],
   "source": [
    "pearsonr(S, sims)"
   ]
  },
  {
   "cell_type": "code",
   "execution_count": 9,
   "metadata": {},
   "outputs": [],
   "source": [
    "w2v_analogy_results = model.evaluate_word_analogies(\"word-test.v1.txt\")"
   ]
  },
  {
   "cell_type": "code",
   "execution_count": 10,
   "metadata": {},
   "outputs": [
    {
     "data": {
      "text/plain": [
       "0.7401448525607863"
      ]
     },
     "execution_count": 10,
     "metadata": {},
     "output_type": "execute_result"
    }
   ],
   "source": [
    "w2v_analogy_results[0]"
   ]
  },
  {
   "cell_type": "code",
   "execution_count": 13,
   "metadata": {},
   "outputs": [],
   "source": [
    "with open(\"exercise_M2_300.pkl\", \"rb\") as file:\n",
    "    M2_300 = pickle.load(file)\n",
    "with open(\"exercise_W.pkl\", \"rb\") as file:\n",
    "    W = pickle.load(file)"
   ]
  },
  {
   "cell_type": "code",
   "execution_count": 23,
   "metadata": {},
   "outputs": [],
   "source": [
    "lsa_vectors = {}\n",
    "for i, w in enumerate(W):\n",
    "    lsa_vectors[w] = M2_300[i]"
   ]
  },
  {
   "cell_type": "code",
   "execution_count": 19,
   "metadata": {},
   "outputs": [],
   "source": [
    "lsa_correct = 0\n",
    "lsa_total = 0\n",
    "small_set = \"\" \n",
    "with open(\"word-test.v1.txt\", \"r\") as analogies:\n",
    "    a_lines = analogies.readlines()\n",
    "    for l in a_lines:\n",
    "        if l[0] == \":\":\n",
    "            small_set += l\n",
    "        else:\n",
    "            words = l.split(\" \")\n",
    "            if words[0] in lsa_vectors.keys() and words[1] in lsa_vectors.keys() and words[2] in lsa_vectors.keys():\n",
    "                small_set += l # save the tests that the lsa vectors can do"
   ]
  },
  {
   "cell_type": "code",
   "execution_count": 26,
   "metadata": {},
   "outputs": [],
   "source": [
    "with open(\"small_set_test.txt\", \"w+\") as outfile:\n",
    "    outfile.write(small_set)"
   ]
  },
  {
   "cell_type": "code",
   "execution_count": 27,
   "metadata": {},
   "outputs": [],
   "source": [
    "w2v_analogy_results = model.evaluate_word_analogies(\"small_set_test.txt\")"
   ]
  },
  {
   "cell_type": "code",
   "execution_count": 28,
   "metadata": {},
   "outputs": [
    {
     "data": {
      "text/plain": [
       "0.7228525121555915"
      ]
     },
     "execution_count": 28,
     "metadata": {},
     "output_type": "execute_result"
    }
   ],
   "source": [
    "w2v_analogy_results[0]"
   ]
  },
  {
   "cell_type": "code",
   "execution_count": 29,
   "metadata": {},
   "outputs": [],
   "source": [
    "lsa_model = KeyedVectors.load('m2_300')"
   ]
  },
  {
   "cell_type": "code",
   "execution_count": 30,
   "metadata": {},
   "outputs": [],
   "source": [
    "lsa_analogy_results = lsa_model.evaluate_word_analogies(\"small_set_test.txt\")"
   ]
  },
  {
   "cell_type": "code",
   "execution_count": 31,
   "metadata": {},
   "outputs": [
    {
     "data": {
      "text/plain": [
       "0.08121574489287493"
      ]
     },
     "execution_count": 31,
     "metadata": {},
     "output_type": "execute_result"
    }
   ],
   "source": [
    "lsa_analogy_results[0]"
   ]
  }
 ],
 "metadata": {
  "kernelspec": {
   "display_name": "Python 3",
   "language": "python",
   "name": "python3"
  },
  "language_info": {
   "codemirror_mode": {
    "name": "ipython",
    "version": 3
   },
   "file_extension": ".py",
   "mimetype": "text/x-python",
   "name": "python",
   "nbconvert_exporter": "python",
   "pygments_lexer": "ipython3",
   "version": "3.6.5"
  }
 },
 "nbformat": 4,
 "nbformat_minor": 2
}
