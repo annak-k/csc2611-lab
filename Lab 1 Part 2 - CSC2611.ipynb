{
 "cells": [
  {
   "cell_type": "code",
   "execution_count": 89,
   "metadata": {},
   "outputs": [],
   "source": [
    "import numpy as np\n",
    "import pickle\n",
    "from sklearn.metrics.pairwise import cosine_similarity\n",
    "from scipy.stats import pearsonr\n",
    "import matplotlib.pyplot as plt"
   ]
  },
  {
   "cell_type": "code",
   "execution_count": 2,
   "metadata": {},
   "outputs": [],
   "source": [
    "with open(\"data.pkl\", \"rb\") as data:\n",
    "    w2v = pickle.load(data)"
   ]
  },
  {
   "cell_type": "code",
   "execution_count": 3,
   "metadata": {},
   "outputs": [],
   "source": [
    "## Cosine similarity between earliest and latest embedding\n",
    "cos_sims = []\n",
    "for i, w in enumerate(w2v['w']):\n",
    "    cos_sims.append(cosine_similarity(np.reshape(w2v['E'][i][0], (1,-1)), np.reshape(w2v['E'][i][len(w2v['E'][i])-1], (1,-1)))[0][0])"
   ]
  },
  {
   "cell_type": "code",
   "execution_count": 31,
   "metadata": {},
   "outputs": [],
   "source": [
    "## Compare overlap of nearest neighbours from earliest to latest year\n",
    "overlaps = []\n",
    "old_sims = cosine_similarity(np.array(w2v['E'])[:,0,:], np.array(w2v['E'])[:,0,:])\n",
    "new_sims = cosine_similarity(np.array(w2v['E'])[:,len(w2v['E'][0])-1,:], np.array(w2v['E'])[:,len(w2v['E'][0])-1,:])\n",
    "for i, w in enumerate(w2v['w']):\n",
    "    old_nbrs = np.array(w2v['w'])[np.argsort(old_sims[i])[-20:]]\n",
    "    new_nbrs = np.array(w2v['w'])[np.argsort(new_sims[i])[-20:]]\n",
    "    overlaps.append(np.sum(old_nbrs == new_nbrs))"
   ]
  },
  {
   "cell_type": "code",
   "execution_count": 137,
   "metadata": {},
   "outputs": [],
   "source": [
    "sims_to_topic = []\n",
    "for i, w in enumerate(w2v['w']):\n",
    "    old_nbrs_embs = np.array(w2v['E'])[np.argsort(old_sims[i])[-20:], 0]\n",
    "    avg_old_nbrs = np.mean(old_nbrs_embs, axis=0)\n",
    "    sim_to_old_topic = cosine_similarity(np.reshape(w2v['E'][i][0], (1,-1)), np.reshape(avg_old_nbrs, (1,-1)))[0][0]\n",
    "    \n",
    "    new_old_nbrs_embs = np.array(w2v['E'])[np.argsort(old_sims[i])[-20:], len(w2v['E'][0])-1]\n",
    "    new_avg_old_nbrs = np.mean(new_old_nbrs_embs, axis=0)\n",
    "    new_sim_to_old_topic = cosine_similarity(np.reshape(w2v['E'][i][len(w2v['E'][0])-1], (1,-1)), np.reshape(new_avg_old_nbrs, (1,-1)))[0][0]\n",
    "    sims_to_topic.append(1-(sim_to_old_topic - new_sim_to_old_topic))"
   ]
  },
  {
   "cell_type": "code",
   "execution_count": 138,
   "metadata": {},
   "outputs": [
    {
     "name": "stdout",
     "output_type": "stream",
     "text": [
      "(0.27449332024995216, 6.659337286242944e-36)\n",
      "(0.27449332024995216, 6.659337286242944e-36)\n",
      "(0.24018256927889509, 1.2253201159542409e-27)\n",
      "(0.4092706524261357, 1.262051383745334e-81)\n"
     ]
    }
   ],
   "source": [
    "print(pearsonr(overlaps, cos_sims))\n",
    "print(pearsonr(cos_sims, overlaps))\n",
    "print(pearsonr(overlaps, sims_to_topic))\n",
    "print(pearsonr(sims_to_topic, cos_sims))"
   ]
  },
  {
   "cell_type": "code",
   "execution_count": 139,
   "metadata": {},
   "outputs": [],
   "source": [
    "top_1 = np.array(w2v['w'])[np.argsort(cos_sims)[:20]]\n",
    "top_2 = np.array(w2v['w'])[np.argsort(overlaps)[:20]]\n",
    "top_3 = np.array(w2v['w'])[np.argsort(sims_to_topic)[:20]]\n",
    "\n",
    "least_1 = np.array(w2v['w'])[np.argsort(cos_sims)[-20:]]\n",
    "least_2 = np.array(w2v['w'])[np.argsort(overlaps)[-20:]]\n",
    "least_3 = np.array(w2v['w'])[np.argsort(sims_to_topic)[-20:]]"
   ]
  },
  {
   "cell_type": "code",
   "execution_count": 140,
   "metadata": {},
   "outputs": [
    {
     "name": "stdout",
     "output_type": "stream",
     "text": [
      "['approach' 'radio' 'impact' 'assessment' 'objectives' 'film' 'computer'\n",
      " 'signal' 'center' 'framework' 'sector' 'traffic' 'box' 'interview'\n",
      " 'basis' 'focus' 'mechanism' 'enterprise' 'mode' 'bit'] ['techniques' 'father' 'implications' 'desires' 'chief' 'fathers'\n",
      " 'decline' 'commission' 'court' 'shoulders' 'payments' 'goals' 'breach'\n",
      " 'sunday' 'engineering' 'parents' 'stories' 'david' 'march' 'provisions']\n"
     ]
    }
   ],
   "source": [
    "print(top_3, least_3)"
   ]
  },
  {
   "cell_type": "code",
   "execution_count": 100,
   "metadata": {},
   "outputs": [],
   "source": [
    "gain_counts = {}\n",
    "with open(\"sense_gain_counts.txt\", \"r\") as file:\n",
    "    lines = file.readlines()\n",
    "    for l in lines:\n",
    "        word, count = l.split(\" \")\n",
    "        gain_counts[word] = int(count)"
   ]
  },
  {
   "cell_type": "code",
   "execution_count": 141,
   "metadata": {},
   "outputs": [
    {
     "name": "stdout",
     "output_type": "stream",
     "text": [
      "(0.1063580094066486, 0.3844060764405467)\n",
      "(0.1305061507665868, 0.28514171881213757)\n",
      "(-0.02133786487558053, 0.861843993612474)\n"
     ]
    }
   ],
   "source": [
    "counts = [v for k,v in gain_counts.items() if k in w2v['w']]\n",
    "# print(len(counts))\n",
    "print(pearsonr(np.array(cos_sims)[[i for i, w in enumerate(w2v['w']) if w in gain_counts.keys()]], [v for k,v in gain_counts.items() if k in w2v['w']]))\n",
    "print(pearsonr(np.array(overlaps)[[i for i, w in enumerate(w2v['w']) if w in gain_counts.keys()]], [v for k,v in gain_counts.items() if k in w2v['w']]))\n",
    "print(pearsonr(np.array(sims_to_topic)[[i for i, w in enumerate(w2v['w']) if w in gain_counts.keys()]], [v for k,v in gain_counts.items() if k in w2v['w']]))"
   ]
  },
  {
   "cell_type": "code",
   "execution_count": 160,
   "metadata": {},
   "outputs": [
    {
     "data": {
      "image/png": "[encoded data removed]",
      "text/plain": [
       "<Figure size 432x288 with 1 Axes>"
      ]
     },
     "metadata": {},
     "output_type": "display_data"
    }
   ],
   "source": [
    "for w in [w2v['w'].index(t) for t in ['approach', 'radio', 'impact']]:\n",
    "    data = []\n",
    "    old_nbrs_embs = np.array(w2v['E'])[np.argsort(old_sims[w])[-20:], 0]\n",
    "    avg_old_nbrs = np.mean(old_nbrs_embs, axis=0)\n",
    "    sim_to_old_topic = cosine_similarity(np.reshape(w2v['E'][w][0], (1,-1)), np.reshape(avg_old_nbrs, (1,-1)))[0][0]\n",
    "    for y, d in enumerate(w2v['d']):\n",
    "        new_old_nbrs_embs = np.array(w2v['E'])[np.argsort(old_sims[w])[-20:], y]\n",
    "        new_avg_old_nbrs = np.mean(new_old_nbrs_embs, axis=0)\n",
    "        new_sim_to_old_topic = cosine_similarity(np.reshape(w2v['E'][w][0], (1,-1)), np.reshape(new_avg_old_nbrs, (1,-1)))[0][0]\n",
    "        \n",
    "        data.append(1-(sim_to_old_topic - new_sim_to_old_topic))\n",
    "    data = data[1:]\n",
    "    changes = np.array([abs(data[i] - data[i+1]) for i in range(0, len(data)-1)])\n",
    "    changepoint = np.argsort(changes)[len(changes)-1]\n",
    "    \n",
    "    plt.plot(changepoint, data[changepoint], 'ro')\n",
    "    plt.plot(data, label=w2v['w'][w])\n",
    "    plt.xticks([i for i in range(0,9)], w2v['d'][1:])\n",
    "    plt.ylabel(\"Method 3 measure\")\n",
    "    plt.xlabel(\"Decade\")\n",
    "    plt.legend()"
   ]
  },
  {
   "cell_type": "code",
   "execution_count": null,
   "metadata": {},
   "outputs": [],
   "source": []
  }
 ],
 "metadata": {
  "kernelspec": {
   "display_name": "Python 3",
   "language": "python",
   "name": "python3"
  },
  "language_info": {
   "codemirror_mode": {
    "name": "ipython",
    "version": 3
   },
   "file_extension": ".py",
   "mimetype": "text/x-python",
   "name": "python",
   "nbconvert_exporter": "python",
   "pygments_lexer": "ipython3",
   "version": "3.6.5"
  }
 },
 "nbformat": 4,
 "nbformat_minor": 2
}
